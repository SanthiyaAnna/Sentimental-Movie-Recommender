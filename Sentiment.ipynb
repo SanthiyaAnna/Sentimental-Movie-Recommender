{
 "cells": [
  {
   "cell_type": "code",
   "execution_count": 1,
   "metadata": {},
   "outputs": [],
   "source": [
    "import pandas as pd\n",
    "import numpy as np\n",
    "import nltk\n",
    "from nltk.corpus import stopwords\n",
    "from sklearn.feature_extraction.text import TfidfVectorizer\n",
    "from sklearn.model_selection import train_test_split\n",
    "from sklearn import naive_bayes\n",
    "from sklearn.metrics import roc_auc_score,accuracy_score\n",
    "import pickle"
   ]
  },
  {
   "cell_type": "code",
   "execution_count": 8,
   "metadata": {},
   "outputs": [
    {
     "name": "stdout",
     "output_type": "stream",
     "text": [
      "Requirement already satisfied: Flask==1.1.1 in c:\\users\\varsh\\anaconda3\\lib\\site-packages (from -r requirements.txt (line 1)) (1.1.1)\n",
      "Requirement already satisfied: gunicorn==19.9.0 in c:\\users\\varsh\\anaconda3\\lib\\site-packages (from -r requirements.txt (line 2)) (19.9.0)\n",
      "Requirement already satisfied: Jinja2==2.11.3 in c:\\users\\varsh\\anaconda3\\lib\\site-packages (from -r requirements.txt (line 3)) (2.11.3)\n",
      "Requirement already satisfied: MarkupSafe==1.1.1 in c:\\users\\varsh\\anaconda3\\lib\\site-packages (from -r requirements.txt (line 4)) (1.1.1)\n",
      "Requirement already satisfied: Werkzeug==0.15.5 in c:\\users\\varsh\\anaconda3\\lib\\site-packages (from -r requirements.txt (line 5)) (0.15.5)\n",
      "Requirement already satisfied: numpy>=1.9.2 in c:\\users\\varsh\\anaconda3\\lib\\site-packages (from -r requirements.txt (line 6)) (1.19.2)\n",
      "Requirement already satisfied: scipy>=0.15.1 in c:\\users\\varsh\\anaconda3\\lib\\site-packages (from -r requirements.txt (line 7)) (1.5.2)\n",
      "Requirement already satisfied: nltk==3.5 in c:\\users\\varsh\\anaconda3\\lib\\site-packages (from -r requirements.txt (line 8)) (3.5)\n",
      "Requirement already satisfied: scikit-learn>=0.18 in c:\\users\\varsh\\anaconda3\\lib\\site-packages (from -r requirements.txt (line 9)) (0.23.2)\n",
      "Requirement already satisfied: pandas>=0.19 in c:\\users\\varsh\\anaconda3\\lib\\site-packages (from -r requirements.txt (line 10)) (1.1.3)\n",
      "Requirement already satisfied: beautifulsoup4==4.9.1 in c:\\users\\varsh\\anaconda3\\lib\\site-packages (from -r requirements.txt (line 11)) (4.9.1)\n",
      "Requirement already satisfied: jsonschema==3.2.0 in c:\\users\\varsh\\anaconda3\\lib\\site-packages (from -r requirements.txt (line 12)) (3.2.0)\n",
      "Requirement already satisfied: tmdbv3api==1.6.1 in c:\\users\\varsh\\anaconda3\\lib\\site-packages (from -r requirements.txt (line 13)) (1.6.1)\n",
      "Requirement already satisfied: lxml==4.6.3 in c:\\users\\varsh\\anaconda3\\lib\\site-packages (from -r requirements.txt (line 14)) (4.6.3)\n",
      "Requirement already satisfied: urllib3==1.26.5 in c:\\users\\varsh\\anaconda3\\lib\\site-packages (from -r requirements.txt (line 15)) (1.26.5)\n",
      "Requirement already satisfied: requests==2.23.0 in c:\\users\\varsh\\anaconda3\\lib\\site-packages (from -r requirements.txt (line 16)) (2.23.0)\n",
      "Requirement already satisfied: pickleshare==0.7.5 in c:\\users\\varsh\\anaconda3\\lib\\site-packages (from -r requirements.txt (line 17)) (0.7.5)\n",
      "Requirement already satisfied: click>=5.1 in c:\\users\\varsh\\anaconda3\\lib\\site-packages (from Flask==1.1.1->-r requirements.txt (line 1)) (7.1.2)\n",
      "Requirement already satisfied: itsdangerous>=0.24 in c:\\users\\varsh\\anaconda3\\lib\\site-packages (from Flask==1.1.1->-r requirements.txt (line 1)) (1.1.0)\n",
      "Requirement already satisfied: regex in c:\\users\\varsh\\anaconda3\\lib\\site-packages (from nltk==3.5->-r requirements.txt (line 8)) (2020.10.15)\n",
      "Requirement already satisfied: joblib in c:\\users\\varsh\\anaconda3\\lib\\site-packages (from nltk==3.5->-r requirements.txt (line 8)) (0.17.0)\n",
      "Requirement already satisfied: tqdm in c:\\users\\varsh\\anaconda3\\lib\\site-packages (from nltk==3.5->-r requirements.txt (line 8)) (4.50.2)\n",
      "Requirement already satisfied: threadpoolctl>=2.0.0 in c:\\users\\varsh\\anaconda3\\lib\\site-packages (from scikit-learn>=0.18->-r requirements.txt (line 9)) (2.1.0)\n",
      "Requirement already satisfied: python-dateutil>=2.7.3 in c:\\users\\varsh\\anaconda3\\lib\\site-packages (from pandas>=0.19->-r requirements.txt (line 10)) (2.8.1)\n",
      "Requirement already satisfied: pytz>=2017.2 in c:\\users\\varsh\\anaconda3\\lib\\site-packages (from pandas>=0.19->-r requirements.txt (line 10)) (2020.1)\n",
      "Requirement already satisfied: soupsieve>1.2 in c:\\users\\varsh\\anaconda3\\lib\\site-packages (from beautifulsoup4==4.9.1->-r requirements.txt (line 11)) (2.0.1)\n",
      "Requirement already satisfied: six>=1.11.0 in c:\\users\\varsh\\anaconda3\\lib\\site-packages (from jsonschema==3.2.0->-r requirements.txt (line 12)) (1.15.0)\n",
      "Requirement already satisfied: setuptools in c:\\users\\varsh\\anaconda3\\lib\\site-packages (from jsonschema==3.2.0->-r requirements.txt (line 12)) (50.3.1.post20201107)\n",
      "Requirement already satisfied: attrs>=17.4.0 in c:\\users\\varsh\\anaconda3\\lib\\site-packages (from jsonschema==3.2.0->-r requirements.txt (line 12)) (20.3.0)\n",
      "Requirement already satisfied: pyrsistent>=0.14.0 in c:\\users\\varsh\\anaconda3\\lib\\site-packages (from jsonschema==3.2.0->-r requirements.txt (line 12)) (0.17.3)\n",
      "Requirement already satisfied: chardet<4,>=3.0.2 in c:\\users\\varsh\\anaconda3\\lib\\site-packages (from requests==2.23.0->-r requirements.txt (line 16)) (3.0.4)\n",
      "Requirement already satisfied: certifi>=2017.4.17 in c:\\users\\varsh\\anaconda3\\lib\\site-packages (from requests==2.23.0->-r requirements.txt (line 16)) (2020.6.20)\n",
      "Requirement already satisfied: idna<3,>=2.5 in c:\\users\\varsh\\anaconda3\\lib\\site-packages (from requests==2.23.0->-r requirements.txt (line 16)) (2.10)\n",
      "Note: you may need to restart the kernel to use updated packages.\n"
     ]
    }
   ],
   "source": [
    "pip install -r requirements.txt"
   ]
  },
  {
   "cell_type": "code",
   "execution_count": 7,
   "metadata": {},
   "outputs": [
    {
     "name": "stderr",
     "output_type": "stream",
     "text": [
      "[nltk_data] Downloading package stopwords to\n",
      "[nltk_data]     C:\\Users\\varsh\\AppData\\Roaming\\nltk_data...\n",
      "[nltk_data]   Package stopwords is already up-to-date!\n"
     ]
    },
    {
     "data": {
      "text/plain": [
       "True"
      ]
     },
     "execution_count": 7,
     "metadata": {},
     "output_type": "execute_result"
    }
   ],
   "source": [
    "nltk.download(\"stopwords\")"
   ]
  },
  {
   "cell_type": "code",
   "execution_count": 9,
   "metadata": {},
   "outputs": [],
   "source": [
    "dataset = pd.read_csv('reviews.txt',sep = '\\t', names =['Reviews','Comments'])"
   ]
  },
  {
   "cell_type": "code",
   "execution_count": 10,
   "metadata": {},
   "outputs": [
    {
     "data": {
      "text/html": [
       "<div>\n",
       "<style scoped>\n",
       "    .dataframe tbody tr th:only-of-type {\n",
       "        vertical-align: middle;\n",
       "    }\n",
       "\n",
       "    .dataframe tbody tr th {\n",
       "        vertical-align: top;\n",
       "    }\n",
       "\n",
       "    .dataframe thead th {\n",
       "        text-align: right;\n",
       "    }\n",
       "</style>\n",
       "<table border=\"1\" class=\"dataframe\">\n",
       "  <thead>\n",
       "    <tr style=\"text-align: right;\">\n",
       "      <th></th>\n",
       "      <th>Reviews</th>\n",
       "      <th>Comments</th>\n",
       "    </tr>\n",
       "  </thead>\n",
       "  <tbody>\n",
       "    <tr>\n",
       "      <th>0</th>\n",
       "      <td>1</td>\n",
       "      <td>The Da Vinci Code book is just awesome.</td>\n",
       "    </tr>\n",
       "    <tr>\n",
       "      <th>1</th>\n",
       "      <td>1</td>\n",
       "      <td>this was the first clive cussler i've ever rea...</td>\n",
       "    </tr>\n",
       "    <tr>\n",
       "      <th>2</th>\n",
       "      <td>1</td>\n",
       "      <td>i liked the Da Vinci Code a lot.</td>\n",
       "    </tr>\n",
       "    <tr>\n",
       "      <th>3</th>\n",
       "      <td>1</td>\n",
       "      <td>i liked the Da Vinci Code a lot.</td>\n",
       "    </tr>\n",
       "    <tr>\n",
       "      <th>4</th>\n",
       "      <td>1</td>\n",
       "      <td>I liked the Da Vinci Code but it ultimatly did...</td>\n",
       "    </tr>\n",
       "    <tr>\n",
       "      <th>...</th>\n",
       "      <td>...</td>\n",
       "      <td>...</td>\n",
       "    </tr>\n",
       "    <tr>\n",
       "      <th>6913</th>\n",
       "      <td>0</td>\n",
       "      <td>Brokeback Mountain was boring.</td>\n",
       "    </tr>\n",
       "    <tr>\n",
       "      <th>6914</th>\n",
       "      <td>0</td>\n",
       "      <td>So Brokeback Mountain was really depressing.</td>\n",
       "    </tr>\n",
       "    <tr>\n",
       "      <th>6915</th>\n",
       "      <td>0</td>\n",
       "      <td>As I sit here, watching the MTV Movie Awards, ...</td>\n",
       "    </tr>\n",
       "    <tr>\n",
       "      <th>6916</th>\n",
       "      <td>0</td>\n",
       "      <td>Ok brokeback mountain is such a horrible movie.</td>\n",
       "    </tr>\n",
       "    <tr>\n",
       "      <th>6917</th>\n",
       "      <td>0</td>\n",
       "      <td>Oh, and Brokeback Mountain was a terrible movie.</td>\n",
       "    </tr>\n",
       "  </tbody>\n",
       "</table>\n",
       "<p>6918 rows × 2 columns</p>\n",
       "</div>"
      ],
      "text/plain": [
       "      Reviews                                           Comments\n",
       "0           1            The Da Vinci Code book is just awesome.\n",
       "1           1  this was the first clive cussler i've ever rea...\n",
       "2           1                   i liked the Da Vinci Code a lot.\n",
       "3           1                   i liked the Da Vinci Code a lot.\n",
       "4           1  I liked the Da Vinci Code but it ultimatly did...\n",
       "...       ...                                                ...\n",
       "6913        0                     Brokeback Mountain was boring.\n",
       "6914        0       So Brokeback Mountain was really depressing.\n",
       "6915        0  As I sit here, watching the MTV Movie Awards, ...\n",
       "6916        0    Ok brokeback mountain is such a horrible movie.\n",
       "6917        0   Oh, and Brokeback Mountain was a terrible movie.\n",
       "\n",
       "[6918 rows x 2 columns]"
      ]
     },
     "execution_count": 10,
     "metadata": {},
     "output_type": "execute_result"
    }
   ],
   "source": [
    "dataset"
   ]
  },
  {
   "cell_type": "code",
   "execution_count": 11,
   "metadata": {},
   "outputs": [],
   "source": [
    "stopset = set(stopwords.words('english'))"
   ]
  },
  {
   "cell_type": "code",
   "execution_count": 12,
   "metadata": {},
   "outputs": [],
   "source": [
    "vectorizer = TfidfVectorizer(use_idf = True,lowercase = True, strip_accents='ascii',stop_words=stopset)"
   ]
  },
  {
   "cell_type": "code",
   "execution_count": 13,
   "metadata": {},
   "outputs": [],
   "source": [
    "X = vectorizer.fit_transform(dataset.Comments)\n",
    "y = dataset.Reviews\n",
    "pickle.dump(vectorizer, open('tranform.pkl', 'wb'))"
   ]
  },
  {
   "cell_type": "code",
   "execution_count": 14,
   "metadata": {},
   "outputs": [],
   "source": [
    "X_train, X_test, y_train, y_test = train_test_split(X, y, test_size=0.20, random_state=42)"
   ]
  },
  {
   "cell_type": "code",
   "execution_count": 15,
   "metadata": {},
   "outputs": [
    {
     "data": {
      "text/plain": [
       "MultinomialNB()"
      ]
     },
     "execution_count": 15,
     "metadata": {},
     "output_type": "execute_result"
    }
   ],
   "source": [
    "clf = naive_bayes.MultinomialNB()\n",
    "clf.fit(X_train,y_train)"
   ]
  },
  {
   "cell_type": "code",
   "execution_count": 16,
   "metadata": {},
   "outputs": [
    {
     "data": {
      "text/plain": [
       "97.47109826589595"
      ]
     },
     "execution_count": 16,
     "metadata": {},
     "output_type": "execute_result"
    }
   ],
   "source": [
    "accuracy_score(y_test,clf.predict(X_test))*100"
   ]
  },
  {
   "cell_type": "code",
   "execution_count": 17,
   "metadata": {},
   "outputs": [
    {
     "data": {
      "text/plain": [
       "MultinomialNB()"
      ]
     },
     "execution_count": 17,
     "metadata": {},
     "output_type": "execute_result"
    }
   ],
   "source": [
    "clf = naive_bayes.MultinomialNB()\n",
    "clf.fit(X,y)"
   ]
  },
  {
   "cell_type": "code",
   "execution_count": 18,
   "metadata": {},
   "outputs": [
    {
     "data": {
      "text/plain": [
       "98.77167630057804"
      ]
     },
     "execution_count": 18,
     "metadata": {},
     "output_type": "execute_result"
    }
   ],
   "source": [
    "accuracy_score(y_test,clf.predict(X_test))*100"
   ]
  },
  {
   "cell_type": "code",
   "execution_count": 19,
   "metadata": {},
   "outputs": [],
   "source": [
    "filename = 'nlp_model.pkl'\n",
    "pickle.dump(clf, open(filename, 'wb'))"
   ]
  }
 ],
 "metadata": {
  "kernelspec": {
   "display_name": "Python 3",
   "language": "python",
   "name": "python3"
  },
  "language_info": {
   "codemirror_mode": {
    "name": "ipython",
    "version": 3
   },
   "file_extension": ".py",
   "mimetype": "text/x-python",
   "name": "python",
   "nbconvert_exporter": "python",
   "pygments_lexer": "ipython3",
   "version": "3.8.5"
  }
 },
 "nbformat": 4,
 "nbformat_minor": 4
}
